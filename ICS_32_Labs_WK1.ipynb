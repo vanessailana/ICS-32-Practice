{
  "nbformat": 4,
  "nbformat_minor": 0,
  "metadata": {
    "colab": {
      "provenance": []
    },
    "kernelspec": {
      "name": "python3",
      "display_name": "Python 3"
    },
    "language_info": {
      "name": "python"
    }
  },
  "cells": [
    {
      "cell_type": "code",
      "source": [
        "#function to perform calculations based on user input\n",
        "\n",
        "def calculate(operand1,operand2,operator):\n",
        "\n",
        "  try:\n",
        "    if operator =='+':\n",
        "      return operand1+operand2\n",
        "    elif operator =='-':\n",
        "      return operand1 - operand2\n",
        "    elif operator == 'x':\n",
        "      return operand1 * operand2\n",
        "\n",
        "    elif operator=='/':\n",
        "      if operand2== 0:\n",
        "        raise ZeroDivisionError(\"Not allowed\")\n",
        "\n",
        "      return operand1/ operand2\n",
        "\n",
        "    else:\n",
        "      raise ValueError(\"Invalid\")\n",
        "\n",
        "  except ZeroDivisionError as e:\n",
        "            return str(e)\n",
        "\n",
        "\n",
        "  except ValueError as e:\n",
        "        return str(e)\n",
        "\n",
        "\n",
        "\n",
        "\n",
        "\n"
      ],
      "metadata": {
        "id": "fWD4IiEE8DEn"
      },
      "execution_count": null,
      "outputs": []
    },
    {
      "cell_type": "code",
      "execution_count": null,
      "metadata": {
        "colab": {
          "base_uri": "https://localhost:8080/",
          "height": 417
        },
        "id": "sXyTucPa8CA7",
        "outputId": "1d2f643e-6766-48d3-8596-54d2dbbf5d22"
      },
      "outputs": [
        {
          "output_type": "stream",
          "name": "stdout",
          "text": [
            "Enter the first operand\n"
          ]
        },
        {
          "output_type": "error",
          "ename": "KeyboardInterrupt",
          "evalue": "Interrupted by user",
          "traceback": [
            "\u001b[0;31m---------------------------------------------------------------------------\u001b[0m",
            "\u001b[0;31mKeyboardInterrupt\u001b[0m                         Traceback (most recent call last)",
            "\u001b[0;32m<ipython-input-16-756f9e1a9151>\u001b[0m in \u001b[0;36m<cell line: 1>\u001b[0;34m()\u001b[0m\n\u001b[1;32m      1\u001b[0m \u001b[0;32mtry\u001b[0m\u001b[0;34m:\u001b[0m\u001b[0;34m\u001b[0m\u001b[0;34m\u001b[0m\u001b[0m\n\u001b[1;32m      2\u001b[0m   \u001b[0mprint\u001b[0m\u001b[0;34m(\u001b[0m\u001b[0;34m\"Enter the first operand\"\u001b[0m\u001b[0;34m)\u001b[0m\u001b[0;34m\u001b[0m\u001b[0;34m\u001b[0m\u001b[0m\n\u001b[0;32m----> 3\u001b[0;31m   \u001b[0moperand1\u001b[0m\u001b[0;34m=\u001b[0m\u001b[0mfloat\u001b[0m\u001b[0;34m(\u001b[0m\u001b[0minput\u001b[0m\u001b[0;34m(\u001b[0m\u001b[0;34m)\u001b[0m\u001b[0;34m)\u001b[0m\u001b[0;34m\u001b[0m\u001b[0;34m\u001b[0m\u001b[0m\n\u001b[0m\u001b[1;32m      4\u001b[0m   \u001b[0mprint\u001b[0m\u001b[0;34m(\u001b[0m\u001b[0;34m\"Enter the second operand\"\u001b[0m\u001b[0;34m)\u001b[0m\u001b[0;34m\u001b[0m\u001b[0;34m\u001b[0m\u001b[0m\n\u001b[1;32m      5\u001b[0m   \u001b[0moperand2\u001b[0m\u001b[0;34m=\u001b[0m\u001b[0mfloat\u001b[0m\u001b[0;34m(\u001b[0m\u001b[0minput\u001b[0m\u001b[0;34m(\u001b[0m\u001b[0;34m)\u001b[0m\u001b[0;34m)\u001b[0m\u001b[0;34m\u001b[0m\u001b[0;34m\u001b[0m\u001b[0m\n",
            "\u001b[0;32m/usr/local/lib/python3.10/dist-packages/ipykernel/kernelbase.py\u001b[0m in \u001b[0;36mraw_input\u001b[0;34m(self, prompt)\u001b[0m\n\u001b[1;32m    849\u001b[0m                 \u001b[0;34m\"raw_input was called, but this frontend does not support input requests.\"\u001b[0m\u001b[0;34m\u001b[0m\u001b[0;34m\u001b[0m\u001b[0m\n\u001b[1;32m    850\u001b[0m             )\n\u001b[0;32m--> 851\u001b[0;31m         return self._input_request(str(prompt),\n\u001b[0m\u001b[1;32m    852\u001b[0m             \u001b[0mself\u001b[0m\u001b[0;34m.\u001b[0m\u001b[0m_parent_ident\u001b[0m\u001b[0;34m,\u001b[0m\u001b[0;34m\u001b[0m\u001b[0;34m\u001b[0m\u001b[0m\n\u001b[1;32m    853\u001b[0m             \u001b[0mself\u001b[0m\u001b[0;34m.\u001b[0m\u001b[0m_parent_header\u001b[0m\u001b[0;34m,\u001b[0m\u001b[0;34m\u001b[0m\u001b[0;34m\u001b[0m\u001b[0m\n",
            "\u001b[0;32m/usr/local/lib/python3.10/dist-packages/ipykernel/kernelbase.py\u001b[0m in \u001b[0;36m_input_request\u001b[0;34m(self, prompt, ident, parent, password)\u001b[0m\n\u001b[1;32m    893\u001b[0m             \u001b[0;32mexcept\u001b[0m \u001b[0mKeyboardInterrupt\u001b[0m\u001b[0;34m:\u001b[0m\u001b[0;34m\u001b[0m\u001b[0;34m\u001b[0m\u001b[0m\n\u001b[1;32m    894\u001b[0m                 \u001b[0;31m# re-raise KeyboardInterrupt, to truncate traceback\u001b[0m\u001b[0;34m\u001b[0m\u001b[0;34m\u001b[0m\u001b[0m\n\u001b[0;32m--> 895\u001b[0;31m                 \u001b[0;32mraise\u001b[0m \u001b[0mKeyboardInterrupt\u001b[0m\u001b[0;34m(\u001b[0m\u001b[0;34m\"Interrupted by user\"\u001b[0m\u001b[0;34m)\u001b[0m \u001b[0;32mfrom\u001b[0m \u001b[0;32mNone\u001b[0m\u001b[0;34m\u001b[0m\u001b[0;34m\u001b[0m\u001b[0m\n\u001b[0m\u001b[1;32m    896\u001b[0m             \u001b[0;32mexcept\u001b[0m \u001b[0mException\u001b[0m \u001b[0;32mas\u001b[0m \u001b[0me\u001b[0m\u001b[0;34m:\u001b[0m\u001b[0;34m\u001b[0m\u001b[0;34m\u001b[0m\u001b[0m\n\u001b[1;32m    897\u001b[0m                 \u001b[0mself\u001b[0m\u001b[0;34m.\u001b[0m\u001b[0mlog\u001b[0m\u001b[0;34m.\u001b[0m\u001b[0mwarning\u001b[0m\u001b[0;34m(\u001b[0m\u001b[0;34m\"Invalid Message:\"\u001b[0m\u001b[0;34m,\u001b[0m \u001b[0mexc_info\u001b[0m\u001b[0;34m=\u001b[0m\u001b[0;32mTrue\u001b[0m\u001b[0;34m)\u001b[0m\u001b[0;34m\u001b[0m\u001b[0;34m\u001b[0m\u001b[0m\n",
            "\u001b[0;31mKeyboardInterrupt\u001b[0m: Interrupted by user"
          ]
        }
      ],
      "source": [
        "try:\n",
        "  print(\"Enter the first operand\")\n",
        "  operand1=float(input())\n",
        "  print(\"Enter the second operand\")\n",
        "  operand2=float(input())\n",
        "  print(\"Enter the desired operator\")\n",
        "  operator=input()\n",
        "\n",
        "  result=calculate(operand1,operand2,operator)\n",
        "\n",
        "  print(result)\n",
        "\n",
        "except ValueError:\n",
        "  print(\"Wrong, please enter valid numeric operands\")"
      ]
    },
    {
      "cell_type": "code",
      "source": [
        "#create a python program that implements a simple shopping cart#\n",
        "def add_item(cart,item_name, item_price):\n",
        "  cart.append({\"name\":item_name, \"price\": item_price})\n",
        "  print(f\"Item '{item_name}'added to the cart.\")\n",
        "\n",
        "\n",
        "def remove_item(cart,item_name):\n",
        "  for item in cart:\n",
        "    if item[\"name\"]==item_name:\n",
        "      cart.remove(item)\n",
        "      print(f\"Item '{item_name}' removed\")\n",
        "      return\n",
        "  print(f\"Item '{item_name}' is not here\")\n",
        "\n",
        "\n",
        "def view_cart(cart):\n",
        "  print(\"Items in cart\")\n",
        "  for i, item in enumerate(cart,1):\n",
        "    print(f\"{i}. {item['name']}- ${item['price']}\")\n",
        "\n",
        "\n",
        "def calculate_total(cart):\n",
        "    total = sum(item['price'] for item in cart)\n",
        "    return total\n",
        "\n",
        "\n",
        "def main():\n",
        "  cart=[]\n",
        "  while True:\n",
        "      print(\"1. Add item\")\n",
        "      print(\"2. Remove item\")\n",
        "      print(\"3. View cart\")\n",
        "      print(\"4. Calculate total\")\n",
        "      print(\"5. Quit\")\n",
        "\n",
        "      choice=input(\"\\Enter choice\")\n",
        "\n",
        "      if choice=='1':\n",
        "        item_name=input(\"Enter item name:\")\n",
        "        item_price=float(input(\"Enter item price\"))\n",
        "        add_item(cart,item_name,item_price)\n",
        "\n",
        "      elif choice=='2':\n",
        "        item_name=input(\"Enter item name to remove:\")\n",
        "        remove_item(cart,item_name)\n",
        "\n",
        "      elif choice=='3':\n",
        "        view_cart(cart)\n",
        "\n",
        "      elif choice =='4':\n",
        "        total=calculate_total(cart)\n",
        "        print(total)\n",
        "\n",
        "      elif choice =='5':\n",
        "        print(\"Bye\")\n",
        "        break\n",
        "\n",
        "      else:\n",
        "        print(\"Invalid try again\")\n",
        "\n",
        "\n",
        "\n",
        "\n",
        "\n",
        "\n",
        "\n",
        "main()\n",
        "\n",
        "\n",
        "\n",
        "\n",
        "\n",
        "\n"
      ],
      "metadata": {
        "id": "yj31jgEv-fDn"
      },
      "execution_count": null,
      "outputs": []
    },
    {
      "cell_type": "markdown",
      "source": [
        "Ask for a Number:\n",
        "The program begins by waiting for you to type in a number. This number will determine how many blocks the program will draw.\n",
        "\n",
        "\n",
        "Set Up a Function Called 'main':\n",
        "Think of a function like a mini-program inside the bigger program. This 'main' function contains instructions for drawing the blocks.\n",
        "\n",
        "\n",
        "Start a Repetition Process (Loop):\n",
        "The program now starts repeating a set of instructions. It repeats these instructions as many times as the number you typed in.\n",
        "\n",
        "During Each Repeat (Loop Iteration):\n",
        "First Repeat Special Action: If it's the very first time through the repeat process, the program will draw the top of the first block.\n",
        "\n",
        "Draw the Middle of the Block: No matter which repeat (iteration) it is, the program will always draw the middle part of a block.\n",
        "\n",
        "Get Ready to Draw the Top of the Next Block: The program starts preparing to draw the top part of the next block.\n",
        "\n",
        "Check if There's More to Draw:\n",
        "The program checks if it's not on the last block. If there are more blocks to draw, it adds a little piece to connect the current block to the next one.\n",
        "\n",
        "Draw the Top of the Next Block or Bottom of the Last Block:\n",
        "Now, the program finishes drawing either the top part of the next block or the bottom part of the last block in the pattern.\n",
        "\n",
        "Execute the 'main' Function:\n",
        "This step is where the program actually starts doing the block drawing steps described above."
      ],
      "metadata": {
        "id": "BDlh7kUClfa_"
      }
    },
    {
      "cell_type": "code",
      "source": [
        "boxes = int(input())\n",
        "#taking user input\n",
        "def main():\n",
        "    for i in range(0, boxes):\n",
        "        if i == 0:\n",
        "            print(2*i*\" \" + \"+-+\")\n",
        "            '''\n",
        "            This line is executed when i is 0. It prints a string\n",
        "            composed of 2*i spaces followed by \"+-+\". When i is\n",
        "            0, 2*i is also 0, so no spaces are printed, and only \"+-+\" is output.'''\n",
        "        print(2*i*\" \" + \"| |\")\n",
        "        ''' This line prints a string that includes 2*i spaces followed by \"| |\". This line is\n",
        "        executed in each iteration of the loop, printing the middle part of each block in the pattern.'''\n",
        "        final_output = 2*i*\" \" + \"+-+\"\n",
        "        '''Here, a string is created and assigned to the variable final_output.\n",
        "        This string starts with 2*i spaces (creating indentation) followed\n",
        "        by \"+-+\". This represents the top (or bottom) line of a block.'''\n",
        "\n",
        "        ''' If the condition statement that checks if the current iteration is not\n",
        "        the last iteration of the loop. This is true for all except the final one.'''\n",
        "        if i != boxes - 1:\n",
        "          '''if the condition in the previous line is true, then '-+' is appeneded to the final_output string. This helps\n",
        "          in order to create a connector to the next block, if its not the last block.'''\n",
        "          final_output += \"-+\"\n",
        "        print(final_output)\n",
        "\n",
        "main()\n"
      ],
      "metadata": {
        "colab": {
          "base_uri": "https://localhost:8080/",
          "height": 399
        },
        "id": "xiRgeJbpdwGA",
        "outputId": "7312b75e-a932-49c5-fe26-bf2de52d4173"
      },
      "execution_count": null,
      "outputs": [
        {
          "output_type": "error",
          "ename": "KeyboardInterrupt",
          "evalue": "Interrupted by user",
          "traceback": [
            "\u001b[0;31m---------------------------------------------------------------------------\u001b[0m",
            "\u001b[0;31mKeyboardInterrupt\u001b[0m                         Traceback (most recent call last)",
            "\u001b[0;32m<ipython-input-26-30c3c20469b3>\u001b[0m in \u001b[0;36m<cell line: 1>\u001b[0;34m()\u001b[0m\n\u001b[0;32m----> 1\u001b[0;31m \u001b[0mboxes\u001b[0m \u001b[0;34m=\u001b[0m \u001b[0mint\u001b[0m\u001b[0;34m(\u001b[0m\u001b[0minput\u001b[0m\u001b[0;34m(\u001b[0m\u001b[0;34m)\u001b[0m\u001b[0;34m)\u001b[0m\u001b[0;34m\u001b[0m\u001b[0;34m\u001b[0m\u001b[0m\n\u001b[0m\u001b[1;32m      2\u001b[0m \u001b[0;31m#taking user input\u001b[0m\u001b[0;34m\u001b[0m\u001b[0;34m\u001b[0m\u001b[0m\n\u001b[1;32m      3\u001b[0m \u001b[0;32mdef\u001b[0m \u001b[0mmain\u001b[0m\u001b[0;34m(\u001b[0m\u001b[0;34m)\u001b[0m\u001b[0;34m:\u001b[0m\u001b[0;34m\u001b[0m\u001b[0;34m\u001b[0m\u001b[0m\n\u001b[1;32m      4\u001b[0m     \u001b[0;32mfor\u001b[0m \u001b[0mi\u001b[0m \u001b[0;32min\u001b[0m \u001b[0mrange\u001b[0m\u001b[0;34m(\u001b[0m\u001b[0;36m0\u001b[0m\u001b[0;34m,\u001b[0m \u001b[0mboxes\u001b[0m\u001b[0;34m)\u001b[0m\u001b[0;34m:\u001b[0m\u001b[0;34m\u001b[0m\u001b[0;34m\u001b[0m\u001b[0m\n\u001b[1;32m      5\u001b[0m         \u001b[0;32mif\u001b[0m \u001b[0mi\u001b[0m \u001b[0;34m==\u001b[0m \u001b[0;36m0\u001b[0m\u001b[0;34m:\u001b[0m\u001b[0;34m\u001b[0m\u001b[0;34m\u001b[0m\u001b[0m\n",
            "\u001b[0;32m/usr/local/lib/python3.10/dist-packages/ipykernel/kernelbase.py\u001b[0m in \u001b[0;36mraw_input\u001b[0;34m(self, prompt)\u001b[0m\n\u001b[1;32m    849\u001b[0m                 \u001b[0;34m\"raw_input was called, but this frontend does not support input requests.\"\u001b[0m\u001b[0;34m\u001b[0m\u001b[0;34m\u001b[0m\u001b[0m\n\u001b[1;32m    850\u001b[0m             )\n\u001b[0;32m--> 851\u001b[0;31m         return self._input_request(str(prompt),\n\u001b[0m\u001b[1;32m    852\u001b[0m             \u001b[0mself\u001b[0m\u001b[0;34m.\u001b[0m\u001b[0m_parent_ident\u001b[0m\u001b[0;34m,\u001b[0m\u001b[0;34m\u001b[0m\u001b[0;34m\u001b[0m\u001b[0m\n\u001b[1;32m    853\u001b[0m             \u001b[0mself\u001b[0m\u001b[0;34m.\u001b[0m\u001b[0m_parent_header\u001b[0m\u001b[0;34m,\u001b[0m\u001b[0;34m\u001b[0m\u001b[0;34m\u001b[0m\u001b[0m\n",
            "\u001b[0;32m/usr/local/lib/python3.10/dist-packages/ipykernel/kernelbase.py\u001b[0m in \u001b[0;36m_input_request\u001b[0;34m(self, prompt, ident, parent, password)\u001b[0m\n\u001b[1;32m    893\u001b[0m             \u001b[0;32mexcept\u001b[0m \u001b[0mKeyboardInterrupt\u001b[0m\u001b[0;34m:\u001b[0m\u001b[0;34m\u001b[0m\u001b[0;34m\u001b[0m\u001b[0m\n\u001b[1;32m    894\u001b[0m                 \u001b[0;31m# re-raise KeyboardInterrupt, to truncate traceback\u001b[0m\u001b[0;34m\u001b[0m\u001b[0;34m\u001b[0m\u001b[0m\n\u001b[0;32m--> 895\u001b[0;31m                 \u001b[0;32mraise\u001b[0m \u001b[0mKeyboardInterrupt\u001b[0m\u001b[0;34m(\u001b[0m\u001b[0;34m\"Interrupted by user\"\u001b[0m\u001b[0;34m)\u001b[0m \u001b[0;32mfrom\u001b[0m \u001b[0;32mNone\u001b[0m\u001b[0;34m\u001b[0m\u001b[0;34m\u001b[0m\u001b[0m\n\u001b[0m\u001b[1;32m    896\u001b[0m             \u001b[0;32mexcept\u001b[0m \u001b[0mException\u001b[0m \u001b[0;32mas\u001b[0m \u001b[0me\u001b[0m\u001b[0;34m:\u001b[0m\u001b[0;34m\u001b[0m\u001b[0;34m\u001b[0m\u001b[0m\n\u001b[1;32m    897\u001b[0m                 \u001b[0mself\u001b[0m\u001b[0;34m.\u001b[0m\u001b[0mlog\u001b[0m\u001b[0;34m.\u001b[0m\u001b[0mwarning\u001b[0m\u001b[0;34m(\u001b[0m\u001b[0;34m\"Invalid Message:\"\u001b[0m\u001b[0;34m,\u001b[0m \u001b[0mexc_info\u001b[0m\u001b[0;34m=\u001b[0m\u001b[0;32mTrue\u001b[0m\u001b[0;34m)\u001b[0m\u001b[0;34m\u001b[0m\u001b[0;34m\u001b[0m\u001b[0m\n",
            "\u001b[0;31mKeyboardInterrupt\u001b[0m: Interrupted by user"
          ]
        }
      ]
    }
  ]
}